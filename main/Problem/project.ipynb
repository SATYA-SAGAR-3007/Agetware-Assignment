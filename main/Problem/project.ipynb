{
 "cells": [
  {
   "cell_type": "markdown",
   "id": "13c5a19b",
   "metadata": {},
   "source": [
    "Problem: Caesar Cipher encoding and decoding"
   ]
  },
  {
   "cell_type": "code",
   "execution_count": null,
   "id": "0a18a603",
   "metadata": {},
   "outputs": [
    {
     "name": "stdout",
     "output_type": "stream",
     "text": [
      "xyb\n"
     ]
    }
   ],
   "source": [
    "alpha = \"abcdefghijklmnopqrstuvwxyz\"\n",
    "Alpha = \"ABCDEFGHIJKLMNOPQRSTUVWXYZ\"\n",
    "s = input()\n",
    "n = int(input())\n",
    "ans = \"\"\n",
    "for i in s:\n",
    "    if i.isalpha():\n",
    "        if i.islower(): ans += alpha[(ord(i) - ord(\"a\") - n) % 26]\n",
    "        else: ans += Alpha[(ord(i) - ord(\"A\") - n) % 26]\n",
    "    else:\n",
    "        print(\"Entered Invalid Input\")\n",
    "        break\n",
    "else:\n",
    "    print(ans)"
   ]
  },
  {
   "cell_type": "markdown",
   "id": "155b0329",
   "metadata": {},
   "source": [
    "Problem: Convert number into a comma separated Indian currency format"
   ]
  },
  {
   "cell_type": "code",
   "execution_count": null,
   "id": "03a55958",
   "metadata": {},
   "outputs": [
    {
     "name": "stdout",
     "output_type": "stream",
     "text": [
      "1,000.000\n"
     ]
    }
   ],
   "source": [
    "n = input().split(\".\")\n",
    "s = \"\"\n",
    "v = len(n[0]) & 1\n",
    "for i in n[0][:-3]:\n",
    "    s += i\n",
    "    if v==0:\n",
    "        s += \",\"\n",
    "    v ^= 1\n",
    "s += n[0][-3:]\n",
    "print(s + (\".\" + n[1] if len(n)==2 else \"\"))"
   ]
  },
  {
   "cell_type": "markdown",
   "id": "98127057",
   "metadata": {},
   "source": []
  },
  {
   "cell_type": "code",
   "execution_count": null,
   "id": "d3751e6a",
   "metadata": {},
   "outputs": [],
   "source": []
  }
 ],
 "metadata": {
  "kernelspec": {
   "display_name": "Python 3",
   "language": "python",
   "name": "python3"
  },
  "language_info": {
   "codemirror_mode": {
    "name": "ipython",
    "version": 3
   },
   "file_extension": ".py",
   "mimetype": "text/x-python",
   "name": "python",
   "nbconvert_exporter": "python",
   "pygments_lexer": "ipython3",
   "version": "3.12.4"
  }
 },
 "nbformat": 4,
 "nbformat_minor": 5
}
